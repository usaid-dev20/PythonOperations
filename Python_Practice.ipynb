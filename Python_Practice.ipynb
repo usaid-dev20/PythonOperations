{
  "cells": [
    {
      "cell_type": "markdown",
      "metadata": {
        "id": "view-in-github",
        "colab_type": "text"
      },
      "source": [
        "<a href=\"https://colab.research.google.com/github/usaid-dev20/PythonOperations/blob/master/Python_Practice.ipynb\" target=\"_parent\"><img src=\"https://colab.research.google.com/assets/colab-badge.svg\" alt=\"Open In Colab\"/></a>"
      ]
    },
    {
      "cell_type": "code",
      "source": [
        "numbers = [2,4,6,8,5,9,10,40,20,44]\n",
        "total = 0\n",
        "for number in numbers:\n",
        "  total = total + number\n",
        "  print(total)\n",
        "\n",
        "print(\"total numbers \",total)\n",
        "\n"
      ],
      "metadata": {
        "colab": {
          "base_uri": "https://localhost:8080/"
        },
        "id": "xZh2six5MZPP",
        "outputId": "19e0c3bc-8b9f-4f5d-f95f-69bed2330519"
      },
      "execution_count": null,
      "outputs": [
        {
          "output_type": "stream",
          "name": "stdout",
          "text": [
            "2\n",
            "6\n",
            "12\n",
            "20\n",
            "25\n",
            "34\n",
            "44\n",
            "84\n",
            "104\n",
            "148\n",
            "total numbers  148\n"
          ]
        }
      ]
    },
    {
      "cell_type": "code",
      "source": [
        "\n",
        "\n",
        "numbers = [ \"1\",\"2\",\"3\", \"a\"]\n",
        "for number in numbers:\n",
        "  if number.isdigit():\n",
        "    print(\"It is a number\")\n",
        "  elif 97 <= ord(number)<= 122:\n",
        "    print(\"it is small alphabet\")\n",
        "\n"
      ],
      "metadata": {
        "id": "xdPsN1tqPcqi",
        "colab": {
          "base_uri": "https://localhost:8080/"
        },
        "outputId": "4b6f1e6b-1474-43fc-cf53-1eec8148b35c"
      },
      "execution_count": 14,
      "outputs": [
        {
          "output_type": "stream",
          "name": "stdout",
          "text": [
            "It is a number\n",
            "It is a number\n",
            "It is a number\n",
            "it is small alphabet\n"
          ]
        }
      ]
    },
    {
      "cell_type": "code",
      "source": [],
      "metadata": {
        "id": "s4usGFDUYuvN"
      },
      "execution_count": null,
      "outputs": []
    },
    {
      "cell_type": "code",
      "source": [],
      "metadata": {
        "id": "gKC7glTsYuyV"
      },
      "execution_count": null,
      "outputs": []
    }
  ],
  "metadata": {
    "colab": {
      "toc_visible": true,
      "provenance": [],
      "include_colab_link": true
    },
    "kernelspec": {
      "display_name": "Python 3",
      "name": "python3"
    }
  },
  "nbformat": 4,
  "nbformat_minor": 0
}